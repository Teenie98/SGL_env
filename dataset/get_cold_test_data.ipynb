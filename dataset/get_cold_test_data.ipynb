{
 "cells": [
  {
   "cell_type": "code",
   "execution_count": 1,
   "id": "543d06d1-36ea-4a05-91ae-25484d821134",
   "metadata": {},
   "outputs": [],
   "source": [
    "import pandas as pd\n",
    "import numpy as np"
   ]
  },
  {
   "cell_type": "code",
   "execution_count": 11,
   "id": "e4245b8b-a93e-4722-b49a-46d26b04cadc",
   "metadata": {},
   "outputs": [],
   "source": [
    "def get_data_path(dataset_name, type, env=False):\n",
    "    if env:\n",
    "        path = './{}/{}_cold_with_env.{}'.format(dataset_name, dataset_name, type)\n",
    "    else:\n",
    "        path = './{}/{}_with_env.{}'.format(dataset_name, dataset_name, type)\n",
    "    return path"
   ]
  },
  {
   "cell_type": "code",
   "execution_count": 6,
   "id": "fc138b04-017f-4f6b-8305-951be4858c03",
   "metadata": {},
   "outputs": [],
   "source": [
    "df = pd.read_csv(get_data_path(\"yelp2018\", \"test\"), sep=',', header=[0])"
   ]
  },
  {
   "cell_type": "code",
   "execution_count": 8,
   "id": "dea717f0-2cf1-4b06-929a-a13bba02faa7",
   "metadata": {},
   "outputs": [],
   "source": [
    "cold_data = df[df['item_env']<2]"
   ]
  },
  {
   "cell_type": "code",
   "execution_count": 12,
   "id": "cfbb1bc0-b7d5-41c6-965f-3a8190c72cf1",
   "metadata": {},
   "outputs": [],
   "source": [
    "cold_data.to_csv(get_data_path(\"yelp2018\", \"test\", 1), index=False, header=True)"
   ]
  },
  {
   "cell_type": "code",
   "execution_count": 13,
   "id": "8b7d006a-faa4-4a14-9a86-48a4c52b3a2b",
   "metadata": {},
   "outputs": [
    {
     "data": {
      "text/plain": [
       "(19021, 4)"
      ]
     },
     "execution_count": 13,
     "metadata": {},
     "output_type": "execute_result"
    }
   ],
   "source": [
    "cold_data.shape"
   ]
  },
  {
   "cell_type": "code",
   "execution_count": 14,
   "id": "7ccd7676-2a22-4174-81da-b6cf83d51129",
   "metadata": {},
   "outputs": [
    {
     "data": {
      "text/plain": [
       "(324147, 4)"
      ]
     },
     "execution_count": 14,
     "metadata": {},
     "output_type": "execute_result"
    }
   ],
   "source": [
    "df.shape"
   ]
  },
  {
   "cell_type": "code",
   "execution_count": null,
   "id": "6560d61d-65bc-4457-8a11-27b873bfe8dc",
   "metadata": {},
   "outputs": [],
   "source": []
  }
 ],
 "metadata": {
  "kernelspec": {
   "display_name": "Python 3 (ipykernel)",
   "language": "python",
   "name": "python3"
  },
  "language_info": {
   "codemirror_mode": {
    "name": "ipython",
    "version": 3
   },
   "file_extension": ".py",
   "mimetype": "text/x-python",
   "name": "python",
   "nbconvert_exporter": "python",
   "pygments_lexer": "ipython3",
   "version": "3.8.10"
  }
 },
 "nbformat": 4,
 "nbformat_minor": 5
}
